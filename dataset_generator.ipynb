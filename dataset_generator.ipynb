{
 "cells": [
  {
   "cell_type": "code",
   "execution_count": 1,
   "metadata": {},
   "outputs": [],
   "source": [
    "import cv2\n",
    "import numpy as np\n",
    "import os"
   ]
  },
  {
   "cell_type": "code",
   "execution_count": 29,
   "metadata": {},
   "outputs": [],
   "source": [
    "dataset_path = './dataset/BIG/val'"
   ]
  },
  {
   "cell_type": "code",
   "execution_count": 30,
   "metadata": {},
   "outputs": [],
   "source": [
    "output_path = './dataset/BIG/image_total'"
   ]
  },
  {
   "cell_type": "code",
   "execution_count": 31,
   "metadata": {},
   "outputs": [],
   "source": [
    "file_list = os.listdir(dataset_path)"
   ]
  },
  {
   "cell_type": "code",
   "execution_count": 32,
   "metadata": {},
   "outputs": [
    {
     "data": {
      "text/plain": [
       "100"
      ]
     },
     "execution_count": 32,
     "metadata": {},
     "output_type": "execute_result"
    }
   ],
   "source": [
    "len(file_list)"
   ]
  },
  {
   "cell_type": "code",
   "execution_count": 33,
   "metadata": {},
   "outputs": [],
   "source": [
    "file_names = set()"
   ]
  },
  {
   "cell_type": "code",
   "execution_count": 34,
   "metadata": {},
   "outputs": [],
   "source": [
    "for file in file_list:\n",
    "    im_type = file.split('.')[-1]\n",
    "    if im_type == 'jpg': \n",
    "        file_names.add(file)"
   ]
  },
  {
   "cell_type": "code",
   "execution_count": 35,
   "metadata": {
    "scrolled": true
   },
   "outputs": [],
   "source": [
    "file_names = list(file_names)"
   ]
  },
  {
   "cell_type": "code",
   "execution_count": 36,
   "metadata": {},
   "outputs": [
    {
     "data": {
      "text/plain": [
       "50"
      ]
     },
     "execution_count": 36,
     "metadata": {},
     "output_type": "execute_result"
    }
   ],
   "source": [
    "len(file_names)"
   ]
  },
  {
   "cell_type": "code",
   "execution_count": 37,
   "metadata": {},
   "outputs": [],
   "source": [
    "test = cv2.imread(os.path.join(dataset_path, file_names[0]))"
   ]
  },
  {
   "cell_type": "code",
   "execution_count": 38,
   "metadata": {},
   "outputs": [
    {
     "data": {
      "text/plain": [
       "(2724, 4127, 3)"
      ]
     },
     "execution_count": 38,
     "metadata": {},
     "output_type": "execute_result"
    }
   ],
   "source": [
    "test.shape"
   ]
  },
  {
   "cell_type": "code",
   "execution_count": 39,
   "metadata": {
    "scrolled": true
   },
   "outputs": [
    {
     "name": "stdout",
     "output_type": "stream",
     "text": [
      "Processing 1/100\n",
      "2724 x  4127\n",
      "copy!\n",
      "Processing 2/100\n",
      "2304 x  3072\n",
      "copy!\n",
      "Processing 3/100\n",
      "3332 x  5000\n",
      "copy!\n",
      "Processing 4/100\n",
      "4000 x  6000\n",
      "copy!\n",
      "Processing 5/100\n",
      "2859 x  4285\n",
      "copy!\n",
      "Processing 6/100\n",
      "2522 x  3363\n",
      "copy!\n",
      "Processing 7/100\n",
      "3240 x  4320\n",
      "copy!\n",
      "Processing 8/100\n",
      "2724 x  4127\n",
      "copy!\n",
      "Processing 9/100\n",
      "3456 x  5184\n",
      "copy!\n",
      "Processing 10/100\n",
      "4096 x  6144\n",
      "copy!\n",
      "Processing 11/100\n",
      "3648 x  5472\n",
      "copy!\n",
      "Processing 12/100\n",
      "3456 x  4608\n",
      "copy!\n",
      "Processing 13/100\n",
      "2592 x  3888\n",
      "copy!\n",
      "Processing 14/100\n",
      "2592 x  3888\n",
      "copy!\n",
      "Processing 15/100\n",
      "4000 x  6000\n",
      "copy!\n",
      "Processing 16/100\n",
      "2000 x  3008\n",
      "copy!\n",
      "Processing 17/100\n",
      "2914 x  3241\n",
      "copy!\n",
      "Processing 18/100\n",
      "2914 x  3241\n",
      "copy!\n",
      "Processing 19/100\n",
      "3168 x  4752\n",
      "copy!\n",
      "Processing 20/100\n",
      "2604 x  3472\n",
      "copy!\n",
      "Processing 21/100\n",
      "4000 x  6000\n",
      "copy!\n",
      "Processing 22/100\n",
      "4195 x  2791\n",
      "copy!\n",
      "Processing 23/100\n",
      "2000 x  3008\n",
      "copy!\n",
      "Processing 24/100\n",
      "5232 x  3648\n",
      "copy!\n",
      "Processing 25/100\n",
      "2592 x  3888\n",
      "copy!\n",
      "Processing 26/100\n",
      "2333 x  3500\n",
      "copy!\n",
      "Processing 27/100\n",
      "2736 x  3648\n",
      "copy!\n",
      "Processing 28/100\n",
      "3456 x  5184\n",
      "copy!\n",
      "Processing 29/100\n",
      "2736 x  3648\n",
      "copy!\n",
      "Processing 30/100\n",
      "2395 x  3557\n",
      "copy!\n",
      "Processing 31/100\n",
      "3888 x  5184\n",
      "copy!\n",
      "Processing 32/100\n",
      "3240 x  4320\n",
      "copy!\n",
      "Processing 33/100\n",
      "1852 x  2775\n",
      "copy!\n",
      "Processing 34/100\n",
      "2816 x  2112\n",
      "copy!\n",
      "Processing 35/100\n",
      "3240 x  4320\n",
      "copy!\n",
      "Processing 36/100\n",
      "2859 x  4285\n",
      "copy!\n",
      "Processing 37/100\n",
      "2672 x  4000\n",
      "copy!\n",
      "Processing 38/100\n",
      "1852 x  2775\n",
      "copy!\n",
      "Processing 39/100\n",
      "1632 x  2448\n",
      "copy!\n",
      "Processing 40/100\n",
      "3168 x  4752\n",
      "copy!\n",
      "Processing 41/100\n",
      "2914 x  3241\n",
      "copy!\n",
      "Processing 42/100\n",
      "4195 x  2791\n",
      "copy!\n",
      "Processing 43/100\n",
      "3456 x  5184\n",
      "copy!\n",
      "Processing 44/100\n",
      "5232 x  3648\n",
      "copy!\n",
      "Processing 45/100\n",
      "2134 x  2848\n",
      "copy!\n",
      "Processing 46/100\n",
      "2522 x  3363\n",
      "copy!\n",
      "Processing 47/100\n",
      "2619 x  3929\n",
      "copy!\n",
      "Processing 48/100\n",
      "3456 x  5184\n",
      "copy!\n",
      "Processing 49/100\n",
      "3332 x  5000\n",
      "copy!\n",
      "Processing 50/100\n",
      "2736 x  3648\n",
      "copy!\n"
     ]
    }
   ],
   "source": [
    "for i, file in enumerate(file_names):\n",
    "    print('Processing %d/%d'%(i+1, len(file_list)))\n",
    "    image = cv2.imread(os.path.join(dataset_path, file))\n",
    "    h, w = image.shape[0], image.shape[1]\n",
    "    print('%d x % d'%(h, w))\n",
    "    if h > 640 and w > 640:\n",
    "        cv2.imwrite(os.path.join(output_path, file), image)\n",
    "        print('copy!')"
   ]
  },
  {
   "cell_type": "code",
   "execution_count": null,
   "metadata": {},
   "outputs": [],
   "source": []
  }
 ],
 "metadata": {
  "kernelspec": {
   "display_name": "Python [conda env:CLIC]",
   "language": "python",
   "name": "conda-env-CLIC-py"
  },
  "language_info": {
   "codemirror_mode": {
    "name": "ipython",
    "version": 3
   },
   "file_extension": ".py",
   "mimetype": "text/x-python",
   "name": "python",
   "nbconvert_exporter": "python",
   "pygments_lexer": "ipython3",
   "version": "3.6.10"
  }
 },
 "nbformat": 4,
 "nbformat_minor": 4
}
